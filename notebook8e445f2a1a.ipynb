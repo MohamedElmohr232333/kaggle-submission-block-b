{
 "cells": [
  {
   "cell_type": "code",
   "execution_count": 1,
   "id": "8a99fb70",
   "metadata": {
    "execution": {
     "iopub.execute_input": "2024-04-10T14:47:04.912297Z",
     "iopub.status.busy": "2024-04-10T14:47:04.911941Z",
     "iopub.status.idle": "2024-04-10T14:47:19.684783Z",
     "shell.execute_reply": "2024-04-10T14:47:19.683727Z"
    },
    "papermill": {
     "duration": 14.783845,
     "end_time": "2024-04-10T14:47:19.687296",
     "exception": false,
     "start_time": "2024-04-10T14:47:04.903451",
     "status": "completed"
    },
    "tags": []
   },
   "outputs": [
    {
     "name": "stderr",
     "output_type": "stream",
     "text": [
      "2024-04-10 14:47:09.361901: E external/local_xla/xla/stream_executor/cuda/cuda_dnn.cc:9261] Unable to register cuDNN factory: Attempting to register factory for plugin cuDNN when one has already been registered\n",
      "2024-04-10 14:47:09.362162: E external/local_xla/xla/stream_executor/cuda/cuda_fft.cc:607] Unable to register cuFFT factory: Attempting to register factory for plugin cuFFT when one has already been registered\n",
      "2024-04-10 14:47:09.514783: E external/local_xla/xla/stream_executor/cuda/cuda_blas.cc:1515] Unable to register cuBLAS factory: Attempting to register factory for plugin cuBLAS when one has already been registered\n"
     ]
    }
   ],
   "source": [
    "import pandas as pd\n",
    "import numpy as np\n",
    "import matplotlib.image as mpimg\n",
    "import matplotlib.pyplot as plt\n",
    "import seaborn as sns\n",
    "from sklearn.model_selection import train_test_split\n",
    "from sklearn.metrics import confusion_matrix\n",
    "import itertools\n",
    "from tensorflow.keras.utils import to_categorical\n",
    "from keras.models import Sequential\n",
    "from keras.layers import Dense, Dropout, Flatten, Conv2D, MaxPool2D\n",
    "from keras.optimizers import RMSprop\n",
    "from tensorflow.keras.preprocessing.image import ImageDataGenerator\n",
    "from keras.callbacks import ReduceLROnPlateau\n",
    "sns.set(style='white', context='notebook', palette='deep')"
   ]
  },
  {
   "cell_type": "code",
   "execution_count": 2,
   "id": "e3e136fe",
   "metadata": {
    "execution": {
     "iopub.execute_input": "2024-04-10T14:47:19.702180Z",
     "iopub.status.busy": "2024-04-10T14:47:19.701522Z",
     "iopub.status.idle": "2024-04-10T14:47:24.720560Z",
     "shell.execute_reply": "2024-04-10T14:47:24.719659Z"
    },
    "papermill": {
     "duration": 5.028986,
     "end_time": "2024-04-10T14:47:24.722937",
     "exception": false,
     "start_time": "2024-04-10T14:47:19.693951",
     "status": "completed"
    },
    "tags": []
   },
   "outputs": [],
   "source": [
    "# Load the data\n",
    "train = pd.read_csv(\"/kaggle/input/digit-recognizer/train.csv\")\n",
    "test = pd.read_csv(\"/kaggle/input/digit-recognizer/test.csv\")"
   ]
  },
  {
   "cell_type": "code",
   "execution_count": 3,
   "id": "1d650e88",
   "metadata": {
    "execution": {
     "iopub.execute_input": "2024-04-10T14:47:24.738184Z",
     "iopub.status.busy": "2024-04-10T14:47:24.737248Z",
     "iopub.status.idle": "2024-04-10T14:47:24.861683Z",
     "shell.execute_reply": "2024-04-10T14:47:24.860784Z"
    },
    "papermill": {
     "duration": 0.134673,
     "end_time": "2024-04-10T14:47:24.864363",
     "exception": false,
     "start_time": "2024-04-10T14:47:24.729690",
     "status": "completed"
    },
    "tags": []
   },
   "outputs": [],
   "source": [
    "Y_train = train[\"label\"]\n",
    "X_train = train.drop(labels = [\"label\"],axis = 1)"
   ]
  },
  {
   "cell_type": "code",
   "execution_count": 4,
   "id": "2199b043",
   "metadata": {
    "execution": {
     "iopub.execute_input": "2024-04-10T14:47:24.878694Z",
     "iopub.status.busy": "2024-04-10T14:47:24.878336Z",
     "iopub.status.idle": "2024-04-10T14:47:24.898820Z",
     "shell.execute_reply": "2024-04-10T14:47:24.897874Z"
    },
    "papermill": {
     "duration": 0.030371,
     "end_time": "2024-04-10T14:47:24.901173",
     "exception": false,
     "start_time": "2024-04-10T14:47:24.870802",
     "status": "completed"
    },
    "tags": []
   },
   "outputs": [
    {
     "data": {
      "text/html": [
       "<div>\n",
       "<style scoped>\n",
       "    .dataframe tbody tr th:only-of-type {\n",
       "        vertical-align: middle;\n",
       "    }\n",
       "\n",
       "    .dataframe tbody tr th {\n",
       "        vertical-align: top;\n",
       "    }\n",
       "\n",
       "    .dataframe thead th {\n",
       "        text-align: right;\n",
       "    }\n",
       "</style>\n",
       "<table border=\"1\" class=\"dataframe\">\n",
       "  <thead>\n",
       "    <tr style=\"text-align: right;\">\n",
       "      <th></th>\n",
       "      <th>pixel0</th>\n",
       "      <th>pixel1</th>\n",
       "      <th>pixel2</th>\n",
       "      <th>pixel3</th>\n",
       "      <th>pixel4</th>\n",
       "      <th>pixel5</th>\n",
       "      <th>pixel6</th>\n",
       "      <th>pixel7</th>\n",
       "      <th>pixel8</th>\n",
       "      <th>pixel9</th>\n",
       "      <th>...</th>\n",
       "      <th>pixel774</th>\n",
       "      <th>pixel775</th>\n",
       "      <th>pixel776</th>\n",
       "      <th>pixel777</th>\n",
       "      <th>pixel778</th>\n",
       "      <th>pixel779</th>\n",
       "      <th>pixel780</th>\n",
       "      <th>pixel781</th>\n",
       "      <th>pixel782</th>\n",
       "      <th>pixel783</th>\n",
       "    </tr>\n",
       "  </thead>\n",
       "  <tbody>\n",
       "    <tr>\n",
       "      <th>0</th>\n",
       "      <td>0</td>\n",
       "      <td>0</td>\n",
       "      <td>0</td>\n",
       "      <td>0</td>\n",
       "      <td>0</td>\n",
       "      <td>0</td>\n",
       "      <td>0</td>\n",
       "      <td>0</td>\n",
       "      <td>0</td>\n",
       "      <td>0</td>\n",
       "      <td>...</td>\n",
       "      <td>0</td>\n",
       "      <td>0</td>\n",
       "      <td>0</td>\n",
       "      <td>0</td>\n",
       "      <td>0</td>\n",
       "      <td>0</td>\n",
       "      <td>0</td>\n",
       "      <td>0</td>\n",
       "      <td>0</td>\n",
       "      <td>0</td>\n",
       "    </tr>\n",
       "    <tr>\n",
       "      <th>1</th>\n",
       "      <td>0</td>\n",
       "      <td>0</td>\n",
       "      <td>0</td>\n",
       "      <td>0</td>\n",
       "      <td>0</td>\n",
       "      <td>0</td>\n",
       "      <td>0</td>\n",
       "      <td>0</td>\n",
       "      <td>0</td>\n",
       "      <td>0</td>\n",
       "      <td>...</td>\n",
       "      <td>0</td>\n",
       "      <td>0</td>\n",
       "      <td>0</td>\n",
       "      <td>0</td>\n",
       "      <td>0</td>\n",
       "      <td>0</td>\n",
       "      <td>0</td>\n",
       "      <td>0</td>\n",
       "      <td>0</td>\n",
       "      <td>0</td>\n",
       "    </tr>\n",
       "    <tr>\n",
       "      <th>2</th>\n",
       "      <td>0</td>\n",
       "      <td>0</td>\n",
       "      <td>0</td>\n",
       "      <td>0</td>\n",
       "      <td>0</td>\n",
       "      <td>0</td>\n",
       "      <td>0</td>\n",
       "      <td>0</td>\n",
       "      <td>0</td>\n",
       "      <td>0</td>\n",
       "      <td>...</td>\n",
       "      <td>0</td>\n",
       "      <td>0</td>\n",
       "      <td>0</td>\n",
       "      <td>0</td>\n",
       "      <td>0</td>\n",
       "      <td>0</td>\n",
       "      <td>0</td>\n",
       "      <td>0</td>\n",
       "      <td>0</td>\n",
       "      <td>0</td>\n",
       "    </tr>\n",
       "    <tr>\n",
       "      <th>3</th>\n",
       "      <td>0</td>\n",
       "      <td>0</td>\n",
       "      <td>0</td>\n",
       "      <td>0</td>\n",
       "      <td>0</td>\n",
       "      <td>0</td>\n",
       "      <td>0</td>\n",
       "      <td>0</td>\n",
       "      <td>0</td>\n",
       "      <td>0</td>\n",
       "      <td>...</td>\n",
       "      <td>0</td>\n",
       "      <td>0</td>\n",
       "      <td>0</td>\n",
       "      <td>0</td>\n",
       "      <td>0</td>\n",
       "      <td>0</td>\n",
       "      <td>0</td>\n",
       "      <td>0</td>\n",
       "      <td>0</td>\n",
       "      <td>0</td>\n",
       "    </tr>\n",
       "    <tr>\n",
       "      <th>4</th>\n",
       "      <td>0</td>\n",
       "      <td>0</td>\n",
       "      <td>0</td>\n",
       "      <td>0</td>\n",
       "      <td>0</td>\n",
       "      <td>0</td>\n",
       "      <td>0</td>\n",
       "      <td>0</td>\n",
       "      <td>0</td>\n",
       "      <td>0</td>\n",
       "      <td>...</td>\n",
       "      <td>0</td>\n",
       "      <td>0</td>\n",
       "      <td>0</td>\n",
       "      <td>0</td>\n",
       "      <td>0</td>\n",
       "      <td>0</td>\n",
       "      <td>0</td>\n",
       "      <td>0</td>\n",
       "      <td>0</td>\n",
       "      <td>0</td>\n",
       "    </tr>\n",
       "  </tbody>\n",
       "</table>\n",
       "<p>5 rows × 784 columns</p>\n",
       "</div>"
      ],
      "text/plain": [
       "   pixel0  pixel1  pixel2  pixel3  pixel4  pixel5  pixel6  pixel7  pixel8  \\\n",
       "0       0       0       0       0       0       0       0       0       0   \n",
       "1       0       0       0       0       0       0       0       0       0   \n",
       "2       0       0       0       0       0       0       0       0       0   \n",
       "3       0       0       0       0       0       0       0       0       0   \n",
       "4       0       0       0       0       0       0       0       0       0   \n",
       "\n",
       "   pixel9  ...  pixel774  pixel775  pixel776  pixel777  pixel778  pixel779  \\\n",
       "0       0  ...         0         0         0         0         0         0   \n",
       "1       0  ...         0         0         0         0         0         0   \n",
       "2       0  ...         0         0         0         0         0         0   \n",
       "3       0  ...         0         0         0         0         0         0   \n",
       "4       0  ...         0         0         0         0         0         0   \n",
       "\n",
       "   pixel780  pixel781  pixel782  pixel783  \n",
       "0         0         0         0         0  \n",
       "1         0         0         0         0  \n",
       "2         0         0         0         0  \n",
       "3         0         0         0         0  \n",
       "4         0         0         0         0  \n",
       "\n",
       "[5 rows x 784 columns]"
      ]
     },
     "execution_count": 4,
     "metadata": {},
     "output_type": "execute_result"
    }
   ],
   "source": [
    "X_train.head(5)"
   ]
  },
  {
   "cell_type": "code",
   "execution_count": 5,
   "id": "6f933871",
   "metadata": {
    "execution": {
     "iopub.execute_input": "2024-04-10T14:47:24.915842Z",
     "iopub.status.busy": "2024-04-10T14:47:24.915485Z",
     "iopub.status.idle": "2024-04-10T14:47:24.922335Z",
     "shell.execute_reply": "2024-04-10T14:47:24.921348Z"
    },
    "papermill": {
     "duration": 0.016614,
     "end_time": "2024-04-10T14:47:24.924422",
     "exception": false,
     "start_time": "2024-04-10T14:47:24.907808",
     "status": "completed"
    },
    "tags": []
   },
   "outputs": [
    {
     "data": {
      "text/plain": [
       "0    1\n",
       "1    0\n",
       "2    1\n",
       "3    4\n",
       "4    0\n",
       "Name: label, dtype: int64"
      ]
     },
     "execution_count": 5,
     "metadata": {},
     "output_type": "execute_result"
    }
   ],
   "source": [
    "Y_train.head(5)"
   ]
  },
  {
   "cell_type": "code",
   "execution_count": 6,
   "id": "96a6a9bf",
   "metadata": {
    "execution": {
     "iopub.execute_input": "2024-04-10T14:47:24.939305Z",
     "iopub.status.busy": "2024-04-10T14:47:24.938952Z",
     "iopub.status.idle": "2024-04-10T14:47:25.300795Z",
     "shell.execute_reply": "2024-04-10T14:47:25.299558Z"
    },
    "papermill": {
     "duration": 0.372074,
     "end_time": "2024-04-10T14:47:25.303214",
     "exception": false,
     "start_time": "2024-04-10T14:47:24.931140",
     "status": "completed"
    },
    "tags": []
   },
   "outputs": [
    {
     "data": {
      "text/plain": [
       "label\n",
       "1    4684\n",
       "7    4401\n",
       "3    4351\n",
       "9    4188\n",
       "2    4177\n",
       "6    4137\n",
       "0    4132\n",
       "4    4072\n",
       "8    4063\n",
       "5    3795\n",
       "Name: count, dtype: int64"
      ]
     },
     "execution_count": 6,
     "metadata": {},
     "output_type": "execute_result"
    },
    {
     "data": {
      "image/png": "[encoded data removed]",
      "text/plain": [
       "<Figure size 640x480 with 1 Axes>"
      ]
     },
     "metadata": {},
     "output_type": "display_data"
    }
   ],
   "source": [
    "sns.countplot(x = Y_train)\n",
    "\n",
    "Y_train.value_counts()"
   ]
  },
  {
   "cell_type": "markdown",
   "id": "c0da3543",
   "metadata": {
    "papermill": {
     "duration": 0.008103,
     "end_time": "2024-04-10T14:47:25.318694",
     "exception": false,
     "start_time": "2024-04-10T14:47:25.310591",
     "status": "completed"
    },
    "tags": []
   },
   "source": [
    "# Normalization"
   ]
  },
  {
   "cell_type": "code",
   "execution_count": 7,
   "id": "97abc650",
   "metadata": {
    "execution": {
     "iopub.execute_input": "2024-04-10T14:47:25.335600Z",
     "iopub.status.busy": "2024-04-10T14:47:25.334428Z",
     "iopub.status.idle": "2024-04-10T14:47:25.455509Z",
     "shell.execute_reply": "2024-04-10T14:47:25.454508Z"
    },
    "papermill": {
     "duration": 0.132221,
     "end_time": "2024-04-10T14:47:25.457988",
     "exception": false,
     "start_time": "2024-04-10T14:47:25.325767",
     "status": "completed"
    },
    "tags": []
   },
   "outputs": [],
   "source": [
    "# Normalize the data\n",
    "X_train = X_train / 300.0\n",
    "test = test / 300.0"
   ]
  },
  {
   "cell_type": "code",
   "execution_count": 8,
   "id": "952059d6",
   "metadata": {
    "execution": {
     "iopub.execute_input": "2024-04-10T14:47:25.474764Z",
     "iopub.status.busy": "2024-04-10T14:47:25.474384Z",
     "iopub.status.idle": "2024-04-10T14:47:25.479487Z",
     "shell.execute_reply": "2024-04-10T14:47:25.478338Z"
    },
    "papermill": {
     "duration": 0.015865,
     "end_time": "2024-04-10T14:47:25.481566",
     "exception": false,
     "start_time": "2024-04-10T14:47:25.465701",
     "status": "completed"
    },
    "tags": []
   },
   "outputs": [],
   "source": [
    "# Reshape image in 3 dimensions (height = 28px, width = 28px , canal = 1)\n",
    "X_train = X_train.values.reshape(-1,28,28,1)\n",
    "test = test.values.reshape(-1,28,28,1)\n"
   ]
  },
  {
   "cell_type": "markdown",
   "id": "80c7396c",
   "metadata": {
    "papermill": {
     "duration": 0.006928,
     "end_time": "2024-04-10T14:47:25.495777",
     "exception": false,
     "start_time": "2024-04-10T14:47:25.488849",
     "status": "completed"
    },
    "tags": []
   },
   "source": [
    "# Label Encoding"
   ]
  },
  {
   "cell_type": "code",
   "execution_count": 9,
   "id": "37825521",
   "metadata": {
    "execution": {
     "iopub.execute_input": "2024-04-10T14:47:25.511973Z",
     "iopub.status.busy": "2024-04-10T14:47:25.511246Z",
     "iopub.status.idle": "2024-04-10T14:47:25.517081Z",
     "shell.execute_reply": "2024-04-10T14:47:25.516357Z"
    },
    "papermill": {
     "duration": 0.016476,
     "end_time": "2024-04-10T14:47:25.519232",
     "exception": false,
     "start_time": "2024-04-10T14:47:25.502756",
     "status": "completed"
    },
    "tags": []
   },
   "outputs": [],
   "source": [
    "# Encode labels to one hot vectors (ex : 2 -> [0,0,1,0,0,0,0,0,0,0])\n",
    "Y_train = to_categorical(Y_train, num_classes = 10)"
   ]
  },
  {
   "cell_type": "code",
   "execution_count": 10,
   "id": "503f6c97",
   "metadata": {
    "execution": {
     "iopub.execute_input": "2024-04-10T14:47:25.535212Z",
     "iopub.status.busy": "2024-04-10T14:47:25.534842Z",
     "iopub.status.idle": "2024-04-10T14:47:25.953670Z",
     "shell.execute_reply": "2024-04-10T14:47:25.952746Z"
    },
    "papermill": {
     "duration": 0.42975,
     "end_time": "2024-04-10T14:47:25.956178",
     "exception": false,
     "start_time": "2024-04-10T14:47:25.526428",
     "status": "completed"
    },
    "tags": []
   },
   "outputs": [],
   "source": [
    "# Split the train and the validation set for the fitting\n",
    "random_seed = 2\n",
    "X_train, X_val, Y_train, Y_val = train_test_split(X_train, Y_train, test_size = 0.1, random_state=random_seed)"
   ]
  },
  {
   "cell_type": "code",
   "execution_count": 11,
   "id": "e48687a0",
   "metadata": {
    "execution": {
     "iopub.execute_input": "2024-04-10T14:47:25.973173Z",
     "iopub.status.busy": "2024-04-10T14:47:25.971989Z",
     "iopub.status.idle": "2024-04-10T14:47:26.239631Z",
     "shell.execute_reply": "2024-04-10T14:47:26.238548Z"
    },
    "papermill": {
     "duration": 0.279162,
     "end_time": "2024-04-10T14:47:26.242701",
     "exception": false,
     "start_time": "2024-04-10T14:47:25.963539",
     "status": "completed"
    },
    "tags": []
   },
   "outputs": [
    {
     "data": {
      "text/plain": [
       "<matplotlib.image.AxesImage at 0x7fb4f1a40880>"
      ]
     },
     "execution_count": 11,
     "metadata": {},
     "output_type": "execute_result"
    },
    {
     "data": {
      "image/png": "[encoded data removed]",
      "text/plain": [
       "<Figure size 640x480 with 1 Axes>"
      ]
     },
     "metadata": {},
     "output_type": "display_data"
    }
   ],
   "source": [
    "# Example - \n",
    "plt.imshow(X_train[0][:,:,0])"
   ]
  },
  {
   "cell_type": "markdown",
   "id": "43d4e7eb",
   "metadata": {
    "papermill": {
     "duration": 0.007094,
     "end_time": "2024-04-10T14:47:26.257139",
     "exception": false,
     "start_time": "2024-04-10T14:47:26.250045",
     "status": "completed"
    },
    "tags": []
   },
   "source": [
    "# CNN"
   ]
  },
  {
   "cell_type": "code",
   "execution_count": 12,
   "id": "1aaecaba",
   "metadata": {
    "execution": {
     "iopub.execute_input": "2024-04-10T14:47:26.273715Z",
     "iopub.status.busy": "2024-04-10T14:47:26.273024Z",
     "iopub.status.idle": "2024-04-10T14:47:26.454392Z",
     "shell.execute_reply": "2024-04-10T14:47:26.445366Z"
    },
    "papermill": {
     "duration": 0.192212,
     "end_time": "2024-04-10T14:47:26.456847",
     "exception": false,
     "start_time": "2024-04-10T14:47:26.264635",
     "status": "completed"
    },
    "tags": []
   },
   "outputs": [
    {
     "name": "stderr",
     "output_type": "stream",
     "text": [
      "/opt/conda/lib/python3.10/site-packages/keras/src/layers/convolutional/base_conv.py:99: UserWarning: Do not pass an `input_shape`/`input_dim` argument to a layer. When using Sequential models, prefer using an `Input(shape)` object as the first layer in the model instead.\n",
      "  super().__init__(\n"
     ]
    }
   ],
   "source": [
    "# CNN architechture is In -> [[Conv2D->relu]*2 -> MaxPool2D -> Dropout]*2 -> Flatten -> Dense -> Dropout -> Out\n",
    "\n",
    "model = Sequential()\n",
    "\n",
    "model.add(Conv2D(filters = 32, kernel_size = (5,5),padding = 'Same', \n",
    "                 activation ='relu', input_shape = (28,28,1)))\n",
    "model.add(Conv2D(filters = 32, kernel_size = (5,5),padding = 'Same', \n",
    "                 activation ='relu'))\n",
    "model.add(MaxPool2D(pool_size=(2,2)))\n",
    "model.add(Dropout(0.25))\n",
    "\n",
    "\n",
    "model.add(Conv2D(filters = 64, kernel_size = (3,3),padding = 'Same', \n",
    "                 activation ='relu'))\n",
    "model.add(Conv2D(filters = 64, kernel_size = (3,3),padding = 'Same', \n",
    "                 activation ='relu'))\n",
    "model.add(MaxPool2D(pool_size=(2,2), strides=(2,2)))\n",
    "model.add(Dropout(0.25))\n",
    "\n",
    "model.add(Flatten())\n",
    "model.add(Dense(256, activation = \"relu\"))\n",
    "model.add(Dropout(0.5))\n",
    "model.add(Dense(10, activation = \"softmax\"))"
   ]
  },
  {
   "cell_type": "code",
   "execution_count": 13,
   "id": "265f8497",
   "metadata": {
    "execution": {
     "iopub.execute_input": "2024-04-10T14:47:26.473535Z",
     "iopub.status.busy": "2024-04-10T14:47:26.473183Z",
     "iopub.status.idle": "2024-04-10T14:47:26.483166Z",
     "shell.execute_reply": "2024-04-10T14:47:26.482332Z"
    },
    "papermill": {
     "duration": 0.020638,
     "end_time": "2024-04-10T14:47:26.485209",
     "exception": false,
     "start_time": "2024-04-10T14:47:26.464571",
     "status": "completed"
    },
    "tags": []
   },
   "outputs": [],
   "source": [
    "from keras.optimizers import RMSprop\n",
    "from keras.optimizers.schedules import ExponentialDecay\n",
    "\n",
    "initial_learning_rate = 0.001\n",
    "decay_rate = 0.9\n",
    "decay_steps = 10000\n",
    "\n",
    "# Define learning rate schedule\n",
    "lr_schedule = ExponentialDecay(\n",
    "    initial_learning_rate,\n",
    "    decay_steps=decay_steps,\n",
    "    decay_rate=decay_rate,\n",
    "    staircase=True)\n",
    "\n",
    "# Initialize optimizer with learning rate scheduler\n",
    "optimizer = RMSprop(learning_rate=lr_schedule, rho=0.9, epsilon=1e-08)\n"
   ]
  },
  {
   "cell_type": "code",
   "execution_count": 14,
   "id": "d54b67ab",
   "metadata": {
    "execution": {
     "iopub.execute_input": "2024-04-10T14:47:26.502104Z",
     "iopub.status.busy": "2024-04-10T14:47:26.501553Z",
     "iopub.status.idle": "2024-04-10T14:47:26.510953Z",
     "shell.execute_reply": "2024-04-10T14:47:26.510192Z"
    },
    "papermill": {
     "duration": 0.020231,
     "end_time": "2024-04-10T14:47:26.512994",
     "exception": false,
     "start_time": "2024-04-10T14:47:26.492763",
     "status": "completed"
    },
    "tags": []
   },
   "outputs": [],
   "source": [
    "# Compiling the Model\n",
    "model.compile(optimizer = optimizer , loss = \"categorical_crossentropy\", metrics=[\"accuracy\"])"
   ]
  },
  {
   "cell_type": "code",
   "execution_count": 15,
   "id": "cf7de99c",
   "metadata": {
    "execution": {
     "iopub.execute_input": "2024-04-10T14:47:26.529737Z",
     "iopub.status.busy": "2024-04-10T14:47:26.529057Z",
     "iopub.status.idle": "2024-04-10T14:47:26.533466Z",
     "shell.execute_reply": "2024-04-10T14:47:26.532785Z"
    },
    "papermill": {
     "duration": 0.014696,
     "end_time": "2024-04-10T14:47:26.535234",
     "exception": false,
     "start_time": "2024-04-10T14:47:26.520538",
     "status": "completed"
    },
    "tags": []
   },
   "outputs": [],
   "source": [
    "# Setting Learning Rate Annealer\n",
    "learning_rate_reduction = ReduceLROnPlateau(monitor='val_acc', \n",
    "                                            patience=3, \n",
    "                                            verbose=1, \n",
    "                                            factor=0.5, \n",
    "                                            min_lr=0.00001)"
   ]
  },
  {
   "cell_type": "code",
   "execution_count": 16,
   "id": "9af63d2b",
   "metadata": {
    "execution": {
     "iopub.execute_input": "2024-04-10T14:47:26.552476Z",
     "iopub.status.busy": "2024-04-10T14:47:26.551580Z",
     "iopub.status.idle": "2024-04-10T14:47:26.555498Z",
     "shell.execute_reply": "2024-04-10T14:47:26.554829Z"
    },
    "papermill": {
     "duration": 0.014614,
     "end_time": "2024-04-10T14:47:26.557314",
     "exception": false,
     "start_time": "2024-04-10T14:47:26.542700",
     "status": "completed"
    },
    "tags": []
   },
   "outputs": [],
   "source": [
    "# Can Turn epochs to 30 to get 0.9967 accuracy\n",
    "epochs = 1 \n",
    "batch_size = 86"
   ]
  },
  {
   "cell_type": "markdown",
   "id": "0abc47a5",
   "metadata": {
    "papermill": {
     "duration": 0.007268,
     "end_time": "2024-04-10T14:47:26.572052",
     "exception": false,
     "start_time": "2024-04-10T14:47:26.564784",
     "status": "completed"
    },
    "tags": []
   },
   "source": [
    "# Data augmentation"
   ]
  },
  {
   "cell_type": "code",
   "execution_count": 17,
   "id": "a44aa056",
   "metadata": {
    "execution": {
     "iopub.execute_input": "2024-04-10T14:47:26.589067Z",
     "iopub.status.busy": "2024-04-10T14:47:26.588098Z",
     "iopub.status.idle": "2024-04-10T14:47:26.683291Z",
     "shell.execute_reply": "2024-04-10T14:47:26.682171Z"
    },
    "papermill": {
     "duration": 0.106305,
     "end_time": "2024-04-10T14:47:26.685765",
     "exception": false,
     "start_time": "2024-04-10T14:47:26.579460",
     "status": "completed"
    },
    "tags": []
   },
   "outputs": [],
   "source": [
    "# data augmentation to prevent overfitting (accuracy 0.99286)\n",
    "\n",
    "datagen = ImageDataGenerator(\n",
    "        featurewise_center=False,  # set input mean to 0 over the dataset\n",
    "        samplewise_center=False,  # set each sample mean to 0\n",
    "        featurewise_std_normalization=False,  # divide inputs by std of the dataset\n",
    "        samplewise_std_normalization=False,  # divide each input by its std\n",
    "        zca_whitening=False,  # apply ZCA whitening\n",
    "        rotation_range=10,  # randomly rotate images in the range (degrees, 0 to 180)\n",
    "        zoom_range = 0.1, # Randomly zoom image \n",
    "        width_shift_range=0.1,  # randomly shift images horizontally (fraction of total width)\n",
    "        height_shift_range=0.1,  # randomly shift images vertically (fraction of total height)\n",
    "        horizontal_flip=False,  # randomly flip images\n",
    "        vertical_flip=False)  # randomly flip images\n",
    "\n",
    "\n",
    "datagen.fit(X_train)"
   ]
  },
  {
   "cell_type": "code",
   "execution_count": 18,
   "id": "b1403681",
   "metadata": {
    "execution": {
     "iopub.execute_input": "2024-04-10T14:47:26.702653Z",
     "iopub.status.busy": "2024-04-10T14:47:26.702313Z",
     "iopub.status.idle": "2024-04-10T14:49:13.528292Z",
     "shell.execute_reply": "2024-04-10T14:49:13.527164Z"
    },
    "papermill": {
     "duration": 106.843827,
     "end_time": "2024-04-10T14:49:13.537310",
     "exception": false,
     "start_time": "2024-04-10T14:47:26.693483",
     "status": "completed"
    },
    "tags": []
   },
   "outputs": [
    {
     "name": "stderr",
     "output_type": "stream",
     "text": [
      "/opt/conda/lib/python3.10/site-packages/keras/src/trainers/data_adapters/py_dataset_adapter.py:120: UserWarning: Your `PyDataset` class should call `super().__init__(**kwargs)` in its constructor. `**kwargs` can include `workers`, `use_multiprocessing`, `max_queue_size`. Do not pass these arguments to `fit()`, as they will be ignored.\n",
      "  self._warn_if_super_not_called()\n"
     ]
    },
    {
     "name": "stdout",
     "output_type": "stream",
     "text": [
      "439/439 - 107s - 243ms/step - accuracy: 0.8667 - loss: 0.4184 - val_accuracy: 0.9740 - val_loss: 0.0779 - learning_rate: 0.0010\n"
     ]
    },
    {
     "name": "stderr",
     "output_type": "stream",
     "text": [
      "/opt/conda/lib/python3.10/site-packages/keras/src/callbacks/callback_list.py:96: UserWarning: Learning rate reduction is conditioned on metric `val_acc` which is not available. Available metrics are: accuracy,loss,val_accuracy,val_loss,learning_rate.\n",
      "  callback.on_epoch_end(epoch, logs)\n"
     ]
    }
   ],
   "source": [
    "# Fit the model\n",
    "history = model.fit(datagen.flow(X_train,Y_train, batch_size=batch_size),\n",
    "                              epochs = epochs, validation_data = (X_val,Y_val),\n",
    "                              verbose = 2, steps_per_epoch=X_train.shape[0] // batch_size\n",
    "                              , callbacks=[learning_rate_reduction])"
   ]
  },
  {
   "cell_type": "markdown",
   "id": "45b120a8",
   "metadata": {
    "papermill": {
     "duration": 0.008963,
     "end_time": "2024-04-10T14:49:13.554446",
     "exception": false,
     "start_time": "2024-04-10T14:49:13.545483",
     "status": "completed"
    },
    "tags": []
   },
   "source": [
    "# Evaluate the model"
   ]
  },
  {
   "cell_type": "code",
   "execution_count": 19,
   "id": "e65b101f",
   "metadata": {
    "execution": {
     "iopub.execute_input": "2024-04-10T14:49:13.572461Z",
     "iopub.status.busy": "2024-04-10T14:49:13.572051Z",
     "iopub.status.idle": "2024-04-10T14:49:14.092315Z",
     "shell.execute_reply": "2024-04-10T14:49:14.091249Z"
    },
    "papermill": {
     "duration": 0.532169,
     "end_time": "2024-04-10T14:49:14.094695",
     "exception": false,
     "start_time": "2024-04-10T14:49:13.562526",
     "status": "completed"
    },
    "tags": []
   },
   "outputs": [
    {
     "data": {
      "image/png": "[encoded data removed]",
      "text/plain": [
       "<Figure size 640x480 with 2 Axes>"
      ]
     },
     "metadata": {},
     "output_type": "display_data"
    }
   ],
   "source": [
    "# Training and validation curves\n",
    "fig, ax = plt.subplots(2,1)\n",
    "ax[0].plot(history.history['loss'], color='b', label=\"Training loss\")\n",
    "ax[0].plot(history.history['val_loss'], color='r', label=\"validation loss\",axes =ax[0])\n",
    "legend = ax[0].legend(loc='best', shadow=True)\n",
    "\n",
    "ax[1].plot(history.history['accuracy'], color='b', label=\"Training accuracy\")\n",
    "ax[1].plot(history.history['val_accuracy'], color='r',label=\"Validation accuracy\")\n",
    "legend = ax[1].legend(loc='best', shadow=True)"
   ]
  },
  {
   "cell_type": "code",
   "execution_count": 20,
   "id": "6fd1e991",
   "metadata": {
    "execution": {
     "iopub.execute_input": "2024-04-10T14:49:14.113817Z",
     "iopub.status.busy": "2024-04-10T14:49:14.112859Z",
     "iopub.status.idle": "2024-04-10T14:49:19.952003Z",
     "shell.execute_reply": "2024-04-10T14:49:19.950961Z"
    },
    "papermill": {
     "duration": 5.851533,
     "end_time": "2024-04-10T14:49:19.954602",
     "exception": false,
     "start_time": "2024-04-10T14:49:14.103069",
     "status": "completed"
    },
    "tags": []
   },
   "outputs": [
    {
     "name": "stdout",
     "output_type": "stream",
     "text": [
      "\u001b[1m132/132\u001b[0m \u001b[32m━━━━━━━━━━━━━━━━━━━━\u001b[0m\u001b[37m\u001b[0m \u001b[1m3s\u001b[0m 23ms/step\n"
     ]
    },
    {
     "data": {
      "image/png": "[encoded data removed]",
      "text/plain": [
       "<Figure size 640x480 with 2 Axes>"
      ]
     },
     "metadata": {},
     "output_type": "display_data"
    }
   ],
   "source": [
    "def plot_confusion_matrix(cm, classes,\n",
    "                          normalize=False,\n",
    "                          title='Confusion matrix',\n",
    "                          cmap=plt.cm.Blues):\n",
    "    \n",
    "    plt.imshow(cm, interpolation='nearest', cmap=cmap)\n",
    "    plt.title(title)\n",
    "    plt.colorbar()\n",
    "    tick_marks = np.arange(len(classes))\n",
    "    plt.xticks(tick_marks, classes, rotation=45)\n",
    "    plt.yticks(tick_marks, classes)\n",
    "\n",
    "    if normalize:\n",
    "        cm = cm.astype('float') / cm.sum(axis=1)[:, np.newaxis]\n",
    "\n",
    "    thresh = cm.max() / 2.\n",
    "    for i, j in itertools.product(range(cm.shape[0]), range(cm.shape[1])):\n",
    "         plt.text(j, i, cm[i, j],\n",
    "                 horizontalalignment=\"center\",\n",
    "                 color=\"white\" if cm[i, j] > thresh else \"black\")\n",
    "\n",
    "    plt.tight_layout()\n",
    "    plt.ylabel('True label')\n",
    "    plt.xlabel('Predicted label')\n",
    "\n",
    "\n",
    "Y_pred = model.predict(X_val)\n",
    "\n",
    "Y_pred_classes = np.argmax(Y_pred,axis = 1) \n",
    "\n",
    "Y_true = np.argmax(Y_val,axis = 1) \n",
    "\n",
    "confusion_mtx = confusion_matrix(Y_true, Y_pred_classes) \n",
    "\n",
    "plot_confusion_matrix(confusion_mtx, classes = range(10)) "
   ]
  },
  {
   "cell_type": "code",
   "execution_count": 21,
   "id": "0c6318d4",
   "metadata": {
    "execution": {
     "iopub.execute_input": "2024-04-10T14:49:19.980933Z",
     "iopub.status.busy": "2024-04-10T14:49:19.980563Z",
     "iopub.status.idle": "2024-04-10T14:49:20.886483Z",
     "shell.execute_reply": "2024-04-10T14:49:20.885518Z"
    },
    "papermill": {
     "duration": 0.92184,
     "end_time": "2024-04-10T14:49:20.888686",
     "exception": false,
     "start_time": "2024-04-10T14:49:19.966846",
     "status": "completed"
    },
    "tags": []
   },
   "outputs": [
    {
     "data": {
      "image/png": "[encoded data removed]",
      "text/plain": [
       "<Figure size 1000x800 with 6 Axes>"
      ]
     },
     "metadata": {},
     "output_type": "display_data"
    }
   ],
   "source": [
    "import matplotlib.pyplot as plt\n",
    "\n",
    "def display_errors(errors_index, img_errors, pred_errors, obs_errors):\n",
    "    \"\"\"Display the top 6 errors.\"\"\"\n",
    "    nrows = 2\n",
    "    ncols = 3\n",
    "    fig, ax = plt.subplots(nrows, ncols, figsize=(10, 8))\n",
    "\n",
    "    for i, ax in enumerate(ax.flat):\n",
    "        error = errors_index[i]\n",
    "        ax.imshow(img_errors[error].reshape((28, 28)), cmap='gray')\n",
    "        ax.set_title(f\"Predicted label: {pred_errors[error]}\\nTrue label: {obs_errors[error]}\")\n",
    "        ax.axis('off')\n",
    "\n",
    "# Identify errors\n",
    "errors = (Y_pred_classes != Y_true)\n",
    "Y_pred_classes_errors = Y_pred_classes[errors]\n",
    "Y_pred_errors = Y_pred[errors]\n",
    "Y_true_errors = Y_true[errors]\n",
    "X_val_errors = X_val[errors]\n",
    "\n",
    "# Calculate the probability of errors\n",
    "Y_pred_errors_prob = np.max(Y_pred_errors, axis=1)\n",
    "true_prob_errors = Y_pred_errors[np.arange(Y_pred_errors.shape[0]), Y_true_errors]\n",
    "delta_pred_true_errors = Y_pred_errors_prob - true_prob_errors\n",
    "\n",
    "# Sort errors based on the difference between predicted and true probabilities\n",
    "sorted_delta_errors = np.argsort(delta_pred_true_errors)\n",
    "most_important_errors = sorted_delta_errors[-6:]\n",
    "\n",
    "# Display the top 6 errors\n",
    "display_errors(most_important_errors, X_val_errors, Y_pred_classes_errors, Y_true_errors)\n"
   ]
  },
  {
   "cell_type": "code",
   "execution_count": 22,
   "id": "be6afd35",
   "metadata": {
    "execution": {
     "iopub.execute_input": "2024-04-10T14:49:20.915926Z",
     "iopub.status.busy": "2024-04-10T14:49:20.914969Z",
     "iopub.status.idle": "2024-04-10T14:50:02.126260Z",
     "shell.execute_reply": "2024-04-10T14:50:02.124703Z"
    },
    "papermill": {
     "duration": 41.228223,
     "end_time": "2024-04-10T14:50:02.129513",
     "exception": false,
     "start_time": "2024-04-10T14:49:20.901290",
     "status": "completed"
    },
    "tags": []
   },
   "outputs": [
    {
     "name": "stdout",
     "output_type": "stream",
     "text": [
      "\u001b[1m875/875\u001b[0m \u001b[32m━━━━━━━━━━━━━━━━━━━━\u001b[0m\u001b[37m\u001b[0m \u001b[1m21s\u001b[0m 24ms/step\n"
     ]
    }
   ],
   "source": [
    "results = model.predict(test)\n",
    "\n",
    "results = np.argmax(results,axis = 1)\n",
    "\n",
    "results = pd.Series(results,name=\"Label\")"
   ]
  },
  {
   "cell_type": "code",
   "execution_count": 23,
   "id": "9f25934c",
   "metadata": {
    "execution": {
     "iopub.execute_input": "2024-04-10T14:50:02.210687Z",
     "iopub.status.busy": "2024-04-10T14:50:02.209626Z",
     "iopub.status.idle": "2024-04-10T14:50:02.239774Z",
     "shell.execute_reply": "2024-04-10T14:50:02.238946Z"
    },
    "papermill": {
     "duration": 0.07112,
     "end_time": "2024-04-10T14:50:02.242040",
     "exception": false,
     "start_time": "2024-04-10T14:50:02.170920",
     "status": "completed"
    },
    "tags": []
   },
   "outputs": [],
   "source": [
    "submission = pd.concat([pd.Series(range(1,28001),name = \"ImageId\"),results],axis = 1)\n",
    "\n",
    "submission.to_csv(\"mohamed_kaggl3.csv\",index=False)"
   ]
  }
 ],
 "metadata": {
  "kaggle": {
   "accelerator": "none",
   "dataSources": [
    {
     "databundleVersionId": 861823,
     "sourceId": 3004,
     "sourceType": "competition"
    }
   ],
   "dockerImageVersionId": 30684,
   "isGpuEnabled": false,
   "isInternetEnabled": true,
   "language": "python",
   "sourceType": "notebook"
  },
  "kernelspec": {
   "display_name": "Python 3",
   "language": "python",
   "name": "python3"
  },
  "language_info": {
   "codemirror_mode": {
    "name": "ipython",
    "version": 3
   },
   "file_extension": ".py",
   "mimetype": "text/x-python",
   "name": "python",
   "nbconvert_exporter": "python",
   "pygments_lexer": "ipython3",
   "version": "3.10.13"
  },
  "papermill": {
   "default_parameters": {},
   "duration": 181.515061,
   "end_time": "2024-04-10T14:50:03.797569",
   "environment_variables": {},
   "exception": null,
   "input_path": "__notebook__.ipynb",
   "output_path": "__notebook__.ipynb",
   "parameters": {},
   "start_time": "2024-04-10T14:47:02.282508",
   "version": "2.5.0"
  }
 },
 "nbformat": 4,
 "nbformat_minor": 5
}
